{
  "cells": [
    {
      "cell_type": "markdown",
      "metadata": {
        "colab_type": "text",
        "id": "view-in-github"
      },
      "source": [
        "<a href=\"https://colab.research.google.com/github/armandoordonez/machinelearning/blob/main/PCR.ipynb\" target=\"_parent\"><img src=\"https://colab.research.google.com/assets/colab-badge.svg\" alt=\"Open In Colab\"/></a>"
      ]
    },
    {
      "cell_type": "markdown",
      "metadata": {
        "id": "peMBRGWJmRYe"
      },
      "source": [
        "Principal Components Regression PCR consiste en ajustar un modelo de regresión lineal por mínimos cuadrados empleando como predictores las componentes generadas a partir de un Principal Component Analysis (PCA). "
      ]
    },
    {
      "cell_type": "code",
      "execution_count": 14,
      "metadata": {
        "id": "XDt9HgqJmUGX"
      },
      "outputs": [],
      "source": [
        "# Basado en https://www.cienciadedatos.net/documentos/py19-pca-python.html\n",
        "\n",
        "# Tratamiento de datos\n",
        "\n",
        "# ==============================================================================\n",
        "import numpy as np\n",
        "import pandas as pd\n",
        "import statsmodels.api as sm\n",
        "\n",
        "# Gráficos\n",
        "# ==============================================================================\n",
        "import matplotlib.pyplot as plt\n",
        "import matplotlib.font_manager\n",
        "from matplotlib import style\n",
        "style.use('ggplot') or plt.style.use('ggplot')\n",
        "\n",
        "# Preprocesado y modelado\n",
        "# ==============================================================================\n",
        "from sklearn.decomposition import PCA\n",
        "from sklearn.pipeline import make_pipeline\n",
        "from sklearn.preprocessing import StandardScaler\n",
        "from sklearn.model_selection import KFold\n",
        "from sklearn.model_selection import GridSearchCV\n",
        "from sklearn.linear_model import LinearRegression\n",
        "from sklearn.model_selection import train_test_split\n",
        "from sklearn.metrics import mean_squared_error\n",
        "import multiprocessing\n",
        "\n",
        "# Configuración warnings\n",
        "# ==============================================================================\n",
        "import warnings\n",
        "warnings.filterwarnings('ignore')"
      ]
    },
    {
      "cell_type": "code",
      "execution_count": 15,
      "metadata": {
        "id": "mecO9MtzEl4S"
      },
      "outputs": [],
      "source": [
        "# Datos\n",
        "# se mide el espectro de absorbancia a 100 longitudes de onda en 215 muestras de carne, \n",
        "# cuyo contenido en grasa se obtiene también por análisis químico, \n",
        "# Se busca entrenar un modelo con el objetivo de predecir el contenido en grasa a partir de los valores dados por el espectrofotómetro\n",
        "# ==============================================================================\n",
        "datos = pd.read_csv('train.csv')\n",
        "#datos = pd.merge(datos,pd.read_csv('test.csv'))\n",
        "datos = datos.drop(columns = datos.columns[0])\n",
        "\n"
      ]
    },
    {
      "cell_type": "code",
      "execution_count": 16,
      "metadata": {},
      "outputs": [
        {
          "name": "stdout",
          "output_type": "stream",
          "text": [
            "<class 'pandas.core.frame.DataFrame'>\n",
            "RangeIndex: 1460 entries, 0 to 1459\n",
            "Data columns (total 80 columns):\n",
            " #   Column         Non-Null Count  Dtype  \n",
            "---  ------         --------------  -----  \n",
            " 0   MSSubClass     1460 non-null   int64  \n",
            " 1   MSZoning       1460 non-null   object \n",
            " 2   LotFrontage    1201 non-null   float64\n",
            " 3   LotArea        1460 non-null   int64  \n",
            " 4   Street         1460 non-null   object \n",
            " 5   Alley          91 non-null     object \n",
            " 6   LotShape       1460 non-null   object \n",
            " 7   LandContour    1460 non-null   object \n",
            " 8   Utilities      1460 non-null   object \n",
            " 9   LotConfig      1460 non-null   object \n",
            " 10  LandSlope      1460 non-null   object \n",
            " 11  Neighborhood   1460 non-null   object \n",
            " 12  Condition1     1460 non-null   object \n",
            " 13  Condition2     1460 non-null   object \n",
            " 14  BldgType       1460 non-null   object \n",
            " 15  HouseStyle     1460 non-null   object \n",
            " 16  OverallQual    1460 non-null   int64  \n",
            " 17  OverallCond    1460 non-null   int64  \n",
            " 18  YearBuilt      1460 non-null   int64  \n",
            " 19  YearRemodAdd   1460 non-null   int64  \n",
            " 20  RoofStyle      1460 non-null   object \n",
            " 21  RoofMatl       1460 non-null   object \n",
            " 22  Exterior1st    1460 non-null   object \n",
            " 23  Exterior2nd    1460 non-null   object \n",
            " 24  MasVnrType     1452 non-null   object \n",
            " 25  MasVnrArea     1452 non-null   float64\n",
            " 26  ExterQual      1460 non-null   object \n",
            " 27  ExterCond      1460 non-null   object \n",
            " 28  Foundation     1460 non-null   object \n",
            " 29  BsmtQual       1423 non-null   object \n",
            " 30  BsmtCond       1423 non-null   object \n",
            " 31  BsmtExposure   1422 non-null   object \n",
            " 32  BsmtFinType1   1423 non-null   object \n",
            " 33  BsmtFinSF1     1460 non-null   int64  \n",
            " 34  BsmtFinType2   1422 non-null   object \n",
            " 35  BsmtFinSF2     1460 non-null   int64  \n",
            " 36  BsmtUnfSF      1460 non-null   int64  \n",
            " 37  TotalBsmtSF    1460 non-null   int64  \n",
            " 38  Heating        1460 non-null   object \n",
            " 39  HeatingQC      1460 non-null   object \n",
            " 40  CentralAir     1460 non-null   object \n",
            " 41  Electrical     1459 non-null   object \n",
            " 42  1stFlrSF       1460 non-null   int64  \n",
            " 43  2ndFlrSF       1460 non-null   int64  \n",
            " 44  LowQualFinSF   1460 non-null   int64  \n",
            " 45  GrLivArea      1460 non-null   int64  \n",
            " 46  BsmtFullBath   1460 non-null   int64  \n",
            " 47  BsmtHalfBath   1460 non-null   int64  \n",
            " 48  FullBath       1460 non-null   int64  \n",
            " 49  HalfBath       1460 non-null   int64  \n",
            " 50  BedroomAbvGr   1460 non-null   int64  \n",
            " 51  KitchenAbvGr   1460 non-null   int64  \n",
            " 52  KitchenQual    1460 non-null   object \n",
            " 53  TotRmsAbvGrd   1460 non-null   int64  \n",
            " 54  Functional     1460 non-null   object \n",
            " 55  Fireplaces     1460 non-null   int64  \n",
            " 56  FireplaceQu    770 non-null    object \n",
            " 57  GarageType     1379 non-null   object \n",
            " 58  GarageYrBlt    1379 non-null   float64\n",
            " 59  GarageFinish   1379 non-null   object \n",
            " 60  GarageCars     1460 non-null   int64  \n",
            " 61  GarageArea     1460 non-null   int64  \n",
            " 62  GarageQual     1379 non-null   object \n",
            " 63  GarageCond     1379 non-null   object \n",
            " 64  PavedDrive     1460 non-null   object \n",
            " 65  WoodDeckSF     1460 non-null   int64  \n",
            " 66  OpenPorchSF    1460 non-null   int64  \n",
            " 67  EnclosedPorch  1460 non-null   int64  \n",
            " 68  3SsnPorch      1460 non-null   int64  \n",
            " 69  ScreenPorch    1460 non-null   int64  \n",
            " 70  PoolArea       1460 non-null   int64  \n",
            " 71  PoolQC         7 non-null      object \n",
            " 72  Fence          281 non-null    object \n",
            " 73  MiscFeature    54 non-null     object \n",
            " 74  MiscVal        1460 non-null   int64  \n",
            " 75  MoSold         1460 non-null   int64  \n",
            " 76  YrSold         1460 non-null   int64  \n",
            " 77  SaleType       1460 non-null   object \n",
            " 78  SaleCondition  1460 non-null   object \n",
            " 79  SalePrice      1460 non-null   int64  \n",
            "dtypes: float64(3), int64(34), object(43)\n",
            "memory usage: 912.6+ KB\n"
          ]
        }
      ],
      "source": [
        "datos.info()"
      ]
    },
    {
      "cell_type": "code",
      "execution_count": 17,
      "metadata": {},
      "outputs": [],
      "source": [
        "non_categorical = [\"LotFrontage\", \"LotArea\", \"MasVnrArea\", \"BsmtFinSF1\", \n",
        "                   \"BsmtFinSF2\", \"BsmtUnfSF\", \"TotalBsmtSF\", \"1stFlrSF\", \n",
        "                   \"2ndFlrSF\", \"LowQualFinSF\", \"GrLivArea\", \"GarageArea\", \n",
        "                   \"WoodDeckSF\", \"OpenPorchSF\", \"EnclosedPorch\", \"3SsnPorch\", \n",
        "                   \"ScreenPorch\",\"PoolArea\", \"MiscVal\",\"SalePrice\"]\n",
        "\n",
        "categorical = [value for value in datos if value not in non_categorical]\n",
        "\n",
        "datos = datos.drop(columns=categorical)"
      ]
    },
    {
      "cell_type": "code",
      "execution_count": 18,
      "metadata": {},
      "outputs": [
        {
          "name": "stdout",
          "output_type": "stream",
          "text": [
            "<class 'pandas.core.frame.DataFrame'>\n",
            "Int64Index: 1195 entries, 0 to 1459\n",
            "Data columns (total 20 columns):\n",
            " #   Column         Non-Null Count  Dtype  \n",
            "---  ------         --------------  -----  \n",
            " 0   LotFrontage    1195 non-null   float64\n",
            " 1   LotArea        1195 non-null   int64  \n",
            " 2   MasVnrArea     1195 non-null   float64\n",
            " 3   BsmtFinSF1     1195 non-null   int64  \n",
            " 4   BsmtFinSF2     1195 non-null   int64  \n",
            " 5   BsmtUnfSF      1195 non-null   int64  \n",
            " 6   TotalBsmtSF    1195 non-null   int64  \n",
            " 7   1stFlrSF       1195 non-null   int64  \n",
            " 8   2ndFlrSF       1195 non-null   int64  \n",
            " 9   LowQualFinSF   1195 non-null   int64  \n",
            " 10  GrLivArea      1195 non-null   int64  \n",
            " 11  GarageArea     1195 non-null   int64  \n",
            " 12  WoodDeckSF     1195 non-null   int64  \n",
            " 13  OpenPorchSF    1195 non-null   int64  \n",
            " 14  EnclosedPorch  1195 non-null   int64  \n",
            " 15  3SsnPorch      1195 non-null   int64  \n",
            " 16  ScreenPorch    1195 non-null   int64  \n",
            " 17  PoolArea       1195 non-null   int64  \n",
            " 18  MiscVal        1195 non-null   int64  \n",
            " 19  SalePrice      1195 non-null   int64  \n",
            "dtypes: float64(2), int64(18)\n",
            "memory usage: 196.1 KB\n"
          ]
        }
      ],
      "source": [
        "datos=datos.dropna()\n",
        "datos.info()"
      ]
    },
    {
      "cell_type": "code",
      "execution_count": 19,
      "metadata": {
        "colab": {
          "base_uri": "https://localhost:8080/",
          "height": 206
        },
        "id": "1jg77Ve0El7i",
        "outputId": "662ff234-9994-4444-eb32-233adb2e0f64"
      },
      "outputs": [
        {
          "data": {
            "text/html": [
              "<div>\n",
              "<style scoped>\n",
              "    .dataframe tbody tr th:only-of-type {\n",
              "        vertical-align: middle;\n",
              "    }\n",
              "\n",
              "    .dataframe tbody tr th {\n",
              "        vertical-align: top;\n",
              "    }\n",
              "\n",
              "    .dataframe thead th {\n",
              "        text-align: right;\n",
              "    }\n",
              "</style>\n",
              "<table border=\"1\" class=\"dataframe\">\n",
              "  <thead>\n",
              "    <tr style=\"text-align: right;\">\n",
              "      <th></th>\n",
              "      <th>variable_1</th>\n",
              "      <th>variable_2</th>\n",
              "      <th>r</th>\n",
              "      <th>abs_r</th>\n",
              "    </tr>\n",
              "  </thead>\n",
              "  <tbody>\n",
              "    <tr>\n",
              "      <th>127</th>\n",
              "      <td>TotalBsmtSF</td>\n",
              "      <td>1stFlrSF</td>\n",
              "      <td>0.831958</td>\n",
              "      <td>0.831958</td>\n",
              "    </tr>\n",
              "    <tr>\n",
              "      <th>146</th>\n",
              "      <td>1stFlrSF</td>\n",
              "      <td>TotalBsmtSF</td>\n",
              "      <td>0.831958</td>\n",
              "      <td>0.831958</td>\n",
              "    </tr>\n",
              "    <tr>\n",
              "      <th>390</th>\n",
              "      <td>SalePrice</td>\n",
              "      <td>GrLivArea</td>\n",
              "      <td>0.704448</td>\n",
              "      <td>0.704448</td>\n",
              "    </tr>\n",
              "    <tr>\n",
              "      <th>219</th>\n",
              "      <td>GrLivArea</td>\n",
              "      <td>SalePrice</td>\n",
              "      <td>0.704448</td>\n",
              "      <td>0.704448</td>\n",
              "    </tr>\n",
              "    <tr>\n",
              "      <th>170</th>\n",
              "      <td>2ndFlrSF</td>\n",
              "      <td>GrLivArea</td>\n",
              "      <td>0.691980</td>\n",
              "      <td>0.691980</td>\n",
              "    </tr>\n",
              "    <tr>\n",
              "      <th>208</th>\n",
              "      <td>GrLivArea</td>\n",
              "      <td>2ndFlrSF</td>\n",
              "      <td>0.691980</td>\n",
              "      <td>0.691980</td>\n",
              "    </tr>\n",
              "    <tr>\n",
              "      <th>391</th>\n",
              "      <td>SalePrice</td>\n",
              "      <td>GarageArea</td>\n",
              "      <td>0.630611</td>\n",
              "      <td>0.630611</td>\n",
              "    </tr>\n",
              "    <tr>\n",
              "      <th>239</th>\n",
              "      <td>GarageArea</td>\n",
              "      <td>SalePrice</td>\n",
              "      <td>0.630611</td>\n",
              "      <td>0.630611</td>\n",
              "    </tr>\n",
              "    <tr>\n",
              "      <th>386</th>\n",
              "      <td>SalePrice</td>\n",
              "      <td>TotalBsmtSF</td>\n",
              "      <td>0.625333</td>\n",
              "      <td>0.625333</td>\n",
              "    </tr>\n",
              "    <tr>\n",
              "      <th>139</th>\n",
              "      <td>TotalBsmtSF</td>\n",
              "      <td>SalePrice</td>\n",
              "      <td>0.625333</td>\n",
              "      <td>0.625333</td>\n",
              "    </tr>\n",
              "  </tbody>\n",
              "</table>\n",
              "</div>"
            ],
            "text/plain": [
              "      variable_1   variable_2         r     abs_r\n",
              "127  TotalBsmtSF     1stFlrSF  0.831958  0.831958\n",
              "146     1stFlrSF  TotalBsmtSF  0.831958  0.831958\n",
              "390    SalePrice    GrLivArea  0.704448  0.704448\n",
              "219    GrLivArea    SalePrice  0.704448  0.704448\n",
              "170     2ndFlrSF    GrLivArea  0.691980  0.691980\n",
              "208    GrLivArea     2ndFlrSF  0.691980  0.691980\n",
              "391    SalePrice   GarageArea  0.630611  0.630611\n",
              "239   GarageArea    SalePrice  0.630611  0.630611\n",
              "386    SalePrice  TotalBsmtSF  0.625333  0.625333\n",
              "139  TotalBsmtSF    SalePrice  0.625333  0.625333"
            ]
          },
          "metadata": {},
          "output_type": "display_data"
        }
      ],
      "source": [
        "# Correlación entre columnas numéricas\n",
        "# ==============================================================================\n",
        "\n",
        "def tidy_corr_matrix(corr_mat):\n",
        "    '''\n",
        "    Función para convertir una matriz de correlación de pandas en formato tidy\n",
        "    '''\n",
        "    corr_mat = corr_mat.stack().reset_index()\n",
        "    corr_mat.columns = ['variable_1','variable_2','r']\n",
        "    corr_mat = corr_mat.loc[corr_mat['variable_1'] != corr_mat['variable_2'], :]\n",
        "    corr_mat['abs_r'] = np.abs(corr_mat['r'])\n",
        "    corr_mat = corr_mat.sort_values('abs_r', ascending=False)\n",
        "    \n",
        "    return(corr_mat)\n",
        "\n",
        "corr_matrix = datos.select_dtypes(include=['float64', 'int']) \\\n",
        "              .corr(method='pearson')\n",
        "display(tidy_corr_matrix(corr_matrix).head(10))\n",
        "\n"
      ]
    },
    {
      "cell_type": "code",
      "execution_count": 20,
      "metadata": {
        "id": "I03GQDg6El-s"
      },
      "outputs": [],
      "source": [
        "# # (correlación absoluta > 0.8), lo que supone un problema a la hora de emplear modelos de regresión lineal\n",
        "\n",
        "# División de los datos en train y test\n",
        "# ==============================================================================\n",
        "X = datos.drop(columns='SalePrice')\n",
        "y = datos['SalePrice']\n",
        "\n",
        "X_train, X_test, y_train, y_test = train_test_split(\n",
        "                                        X,\n",
        "                                        y.values.reshape(-1,1),\n",
        "                                        train_size   = 0.7,\n",
        "                                        random_state = 1234,\n",
        "                                        shuffle      = True\n",
        "                                    )"
      ]
    },
    {
      "cell_type": "markdown",
      "metadata": {
        "id": "HLLJjvHUnqd4"
      },
      "source": [
        "Se ajustan dos modelos lineales, uno con todos los predictores y otro con solo algunas de las componentes obtenidas por PCA, con el objetivo de identificar cuál de ellos es capaz de predecir mejor el contenido en grasa de la carne en función de las señales registradas por el espectrofotómetro.\n",
        "\n"
      ]
    },
    {
      "cell_type": "code",
      "execution_count": 21,
      "metadata": {
        "colab": {
          "base_uri": "https://localhost:8080/",
          "height": 75
        },
        "id": "qQWQ3iD1EmBv",
        "outputId": "5967d502-6781-496e-e4c5-f2f860a5f7f3"
      },
      "outputs": [
        {
          "data": {
            "text/plain": [
              "LinearRegression()"
            ]
          },
          "execution_count": 21,
          "metadata": {},
          "output_type": "execute_result"
        }
      ],
      "source": [
        "# Creación y entrenamiento del modelo\n",
        "# ==============================================================================\n",
        "modelo = LinearRegression()\n",
        "modelo.fit(X = X_train, y = y_train)\n"
      ]
    },
    {
      "cell_type": "code",
      "execution_count": 22,
      "metadata": {
        "colab": {
          "base_uri": "https://localhost:8080/"
        },
        "id": "33flYR5YEmFD",
        "outputId": "59e0f8a3-bfa4-49fe-94dc-458e3cd7cc2e"
      },
      "outputs": [
        {
          "name": "stdout",
          "output_type": "stream",
          "text": [
            "\n",
            "El error (rmse) de test es: 45577.0690756156\n"
          ]
        }
      ],
      "source": [
        "# Predicciones test\n",
        "# ==============================================================================\n",
        "predicciones = modelo.predict(X=X_test)\n",
        "predicciones = predicciones.flatten()\n",
        "\n",
        "# Error de test del modelo \n",
        "# ==============================================================================\n",
        "rmse_ols = mean_squared_error(\n",
        "            y_true  = y_test,\n",
        "            y_pred  = predicciones,\n",
        "            squared = False\n",
        "           )\n",
        "print(\"\")\n",
        "print(f\"El error (rmse) de test es: {rmse_ols}\")"
      ]
    },
    {
      "cell_type": "code",
      "execution_count": 23,
      "metadata": {
        "colab": {
          "base_uri": "https://localhost:8080/",
          "height": 164
        },
        "id": "0NwU3hzwEmIc",
        "outputId": "6596b131-11f2-47bc-bf5e-39c08e4d27ec"
      },
      "outputs": [
        {
          "data": {
            "text/plain": [
              "Pipeline(steps=[('standardscaler', StandardScaler()), ('pca', PCA()),\n",
              "                ('linearregression', LinearRegression())])"
            ]
          },
          "execution_count": 23,
          "metadata": {},
          "output_type": "execute_result"
        }
      ],
      "source": [
        "# Entrenamiento modelo de regresión precedido por PCA con escalado\n",
        "\n",
        "# ==============================================================================\n",
        "\n",
        "pipe_modelado = make_pipeline(StandardScaler(), PCA(), LinearRegression())\n",
        "\n",
        "pipe_modelado.fit(X=X_train, y=y_train)"
      ]
    },
    {
      "cell_type": "code",
      "execution_count": 24,
      "metadata": {
        "colab": {
          "base_uri": "https://localhost:8080/"
        },
        "id": "4D8FT3V6Isfv",
        "outputId": "ad906d17-331f-49c5-983e-73f2250acda9"
      },
      "outputs": [
        {
          "data": {
            "text/plain": [
              "<bound method Pipeline.set_params of Pipeline(steps=[('standardscaler', StandardScaler()), ('pca', PCA()),\n",
              "                ('linearregression', LinearRegression())])>"
            ]
          },
          "execution_count": 24,
          "metadata": {},
          "output_type": "execute_result"
        }
      ],
      "source": [
        "pipe_modelado.set_params"
      ]
    },
    {
      "cell_type": "code",
      "execution_count": 25,
      "metadata": {
        "colab": {
          "base_uri": "https://localhost:8080/"
        },
        "id": "q9BdrHuIIxrY",
        "outputId": "0222190c-74aa-4bfc-ca95-5294351846d3"
      },
      "outputs": [
        {
          "name": "stdout",
          "output_type": "stream",
          "text": [
            "\n",
            "El error (rmse) de test es: 46072.85659121156\n"
          ]
        }
      ],
      "source": [
        "# Predicciones test\n",
        "# ==============================================================================\n",
        "predicciones = pipe_modelado.predict(X=X_test)\n",
        "predicciones = predicciones.flatten()\n",
        "\n",
        "# Error de test del modelo \n",
        "# ==============================================================================\n",
        "rmse_pcr = mean_squared_error(\n",
        "            y_true  = y_test,\n",
        "            y_pred  = predicciones,\n",
        "            squared = False\n",
        "           )\n",
        "print(\"\")\n",
        "print(f\"El error (rmse) de test es: {rmse_pcr}\")"
      ]
    },
    {
      "cell_type": "code",
      "execution_count": 26,
      "metadata": {
        "colab": {
          "base_uri": "https://localhost:8080/",
          "height": 144
        },
        "id": "5UmnhvzvI1c9",
        "outputId": "090aea7e-7abd-482f-bb22-3fb46fe00158"
      },
      "outputs": [
        {
          "data": {
            "text/html": [
              "<div>\n",
              "<style scoped>\n",
              "    .dataframe tbody tr th:only-of-type {\n",
              "        vertical-align: middle;\n",
              "    }\n",
              "\n",
              "    .dataframe tbody tr th {\n",
              "        vertical-align: top;\n",
              "    }\n",
              "\n",
              "    .dataframe thead th {\n",
              "        text-align: right;\n",
              "    }\n",
              "</style>\n",
              "<table border=\"1\" class=\"dataframe\">\n",
              "  <thead>\n",
              "    <tr style=\"text-align: right;\">\n",
              "      <th></th>\n",
              "      <th>param_pca__n_components</th>\n",
              "      <th>mean_test_score</th>\n",
              "      <th>std_test_score</th>\n",
              "      <th>mean_train_score</th>\n",
              "      <th>std_train_score</th>\n",
              "    </tr>\n",
              "  </thead>\n",
              "  <tbody>\n",
              "    <tr>\n",
              "      <th>2</th>\n",
              "      <td>4</td>\n",
              "      <td>-51430.584574</td>\n",
              "      <td>10617.510237</td>\n",
              "      <td>-49148.613466</td>\n",
              "      <td>2921.610677</td>\n",
              "    </tr>\n",
              "    <tr>\n",
              "      <th>3</th>\n",
              "      <td>6</td>\n",
              "      <td>-51706.164670</td>\n",
              "      <td>10494.883503</td>\n",
              "      <td>-48669.224118</td>\n",
              "      <td>2751.287088</td>\n",
              "    </tr>\n",
              "    <tr>\n",
              "      <th>6</th>\n",
              "      <td>15</td>\n",
              "      <td>-51821.315388</td>\n",
              "      <td>9263.816770</td>\n",
              "      <td>-46279.192900</td>\n",
              "      <td>2078.197554</td>\n",
              "    </tr>\n",
              "  </tbody>\n",
              "</table>\n",
              "</div>"
            ],
            "text/plain": [
              "  param_pca__n_components  mean_test_score  std_test_score  mean_train_score  \\\n",
              "2                       4    -51430.584574    10617.510237     -49148.613466   \n",
              "3                       6    -51706.164670    10494.883503     -48669.224118   \n",
              "6                      15    -51821.315388     9263.816770     -46279.192900   \n",
              "\n",
              "   std_train_score  \n",
              "2      2921.610677  \n",
              "3      2751.287088  \n",
              "6      2078.197554  "
            ]
          },
          "execution_count": 26,
          "metadata": {},
          "output_type": "execute_result"
        }
      ],
      "source": [
        "# Grid de hiperparámetros evaluados\n",
        "# ==============================================================================\n",
        "param_grid = {'pca__n_components': [1, 2, 4, 6, 8, 10, 15, 20, 30, 50]}\n",
        "\n",
        "# Búsqueda por grid search con validación cruzada\n",
        "# ==============================================================================\n",
        "grid = GridSearchCV(\n",
        "        estimator  = pipe_modelado,\n",
        "        param_grid = param_grid,\n",
        "        scoring    = 'neg_root_mean_squared_error',\n",
        "        n_jobs     = multiprocessing.cpu_count() - 1,\n",
        "        cv         = KFold(n_splits=5, random_state=123,shuffle=True), \n",
        "        refit      = True,\n",
        "        verbose    = 0,\n",
        "        return_train_score = True,\n",
        "        \n",
        "\n",
        "       )\n",
        "\n",
        "grid.fit(X = X_train, y = y_train)\n",
        "\n",
        "# Resultados\n",
        "# ==============================================================================\n",
        "resultados = pd.DataFrame(grid.cv_results_)\n",
        "resultados.filter(regex = '(param.*|mean_t|std_t)') \\\n",
        "    .drop(columns = 'params') \\\n",
        "    .sort_values('mean_test_score', ascending = False) \\\n",
        "    .head(3)"
      ]
    },
    {
      "cell_type": "code",
      "execution_count": 27,
      "metadata": {
        "colab": {
          "base_uri": "https://localhost:8080/",
          "height": 403
        },
        "id": "-yxuEZzuI4W8",
        "outputId": "d78fb7eb-de61-466d-e287-6853a367885b"
      },
      "outputs": [
        {
          "data": {
            "image/png": "[encoded data removed]",
            "text/plain": [
              "<Figure size 700x384 with 1 Axes>"
            ]
          },
          "metadata": {},
          "output_type": "display_data"
        }
      ],
      "source": [
        "# Gráfico resultados validación cruzada para cada hiperparámetro\n",
        "# ==============================================================================\n",
        "fig, ax = plt.subplots(nrows=1, ncols=1, figsize=(7, 3.84), sharey=True)\n",
        "\n",
        "resultados.plot('param_pca__n_components', 'mean_train_score', ax=ax)\n",
        "resultados.plot('param_pca__n_components', 'mean_test_score', ax=ax)\n",
        "ax.fill_between(resultados.param_pca__n_components.astype(np.float),\n",
        "                resultados['mean_train_score'] + resultados['std_train_score'],\n",
        "                resultados['mean_train_score'] - resultados['std_train_score'],\n",
        "                alpha=0.2)\n",
        "ax.fill_between(resultados.param_pca__n_components.astype(np.float),\n",
        "                resultados['mean_test_score'] + resultados['std_test_score'],\n",
        "                resultados['mean_test_score'] - resultados['std_test_score'],\n",
        "                alpha=0.2)\n",
        "ax.legend()\n",
        "ax.set_title('Evolución del error CV')\n",
        "ax.set_ylabel('neg_root_mean_squared_error');"
      ]
    },
    {
      "cell_type": "code",
      "execution_count": 28,
      "metadata": {
        "colab": {
          "base_uri": "https://localhost:8080/"
        },
        "id": "auTJoA0WJGL-",
        "outputId": "6b54589f-92d5-47cc-ecc3-bda0b40189e0"
      },
      "outputs": [
        {
          "name": "stdout",
          "output_type": "stream",
          "text": [
            "----------------------------------------\n",
            "Mejores hiperparámetros encontrados (cv)\n",
            "----------------------------------------\n",
            "{'pca__n_components': 4} : -51430.58457351011 neg_root_mean_squared_error\n"
          ]
        }
      ],
      "source": [
        "# Mejores hiperparámetros por validación cruzada\n",
        "# ==============================================================================\n",
        "print(\"----------------------------------------\")\n",
        "print(\"Mejores hiperparámetros encontrados (cv)\")\n",
        "print(\"----------------------------------------\")\n",
        "print(grid.best_params_, \":\", grid.best_score_, grid.scoring)"
      ]
    },
    {
      "cell_type": "code",
      "execution_count": 29,
      "metadata": {
        "colab": {
          "base_uri": "https://localhost:8080/",
          "height": 161
        },
        "id": "Tb4jLKTpJIgT",
        "outputId": "5a958329-722d-4911-a144-490f5e4fd352"
      },
      "outputs": [
        {
          "data": {
            "text/plain": [
              "Pipeline(steps=[('standardscaler', StandardScaler()),\n",
              "                ('pca', PCA(n_components=5)),\n",
              "                ('linearregression', LinearRegression())])"
            ]
          },
          "execution_count": 29,
          "metadata": {},
          "output_type": "execute_result"
        }
      ],
      "source": [
        "# Entrenamiento modelo de regresión precedido por PCA con escalado\n",
        "# ==============================================================================\n",
        "pipe_modelado = make_pipeline(StandardScaler(), PCA(n_components=5), LinearRegression())\n",
        "pipe_modelado.fit(X=X_train, y=y_train)"
      ]
    },
    {
      "cell_type": "code",
      "execution_count": 30,
      "metadata": {
        "colab": {
          "base_uri": "https://localhost:8080/"
        },
        "id": "qvc9jmhSJLRO",
        "outputId": "1ab63043-22ec-410c-be68-c279c12b579f"
      },
      "outputs": [
        {
          "name": "stdout",
          "output_type": "stream",
          "text": [
            "\n",
            "El error (rmse) de test es: 44415.45422671169\n"
          ]
        }
      ],
      "source": [
        "# Predicciones test\n",
        "# ==============================================================================\n",
        "predicciones = pipe_modelado.predict(X=X_test)\n",
        "predicciones = predicciones.flatten()\n",
        "\n",
        "# Error de test del modelo \n",
        "# ==============================================================================\n",
        "rmse_pcr = mean_squared_error(\n",
        "            y_true  = y_test,\n",
        "            y_pred  = predicciones,\n",
        "            squared = False\n",
        "           )\n",
        "print(\"\")\n",
        "print(f\"El error (rmse) de test es: {rmse_pcr}\")"
      ]
    },
    {
      "cell_type": "code",
      "execution_count": 31,
      "metadata": {
        "id": "r54a7w_oJN33"
      },
      "outputs": [],
      "source": [
        "# Based on: Análisis de componentes princiaples PCA con Python by Joaquín Amat Rodrigo, available under a Attribution 4.0 International (CC BY 4.0) at https://www.cienciadedatos.net/documentos/py19-pca-python.html\n",
        "\n"
      ]
    }
  ],
  "metadata": {
    "colab": {
      "authorship_tag": "ABX9TyNUI4MRUl7+2cuBEFtqrEqf",
      "include_colab_link": true,
      "provenance": []
    },
    "kernelspec": {
      "display_name": "Python 3",
      "name": "python3"
    },
    "language_info": {
      "codemirror_mode": {
        "name": "ipython",
        "version": 3
      },
      "file_extension": ".py",
      "mimetype": "text/x-python",
      "name": "python",
      "nbconvert_exporter": "python",
      "pygments_lexer": "ipython3",
      "version": "3.9.13"
    }
  },
  "nbformat": 4,
  "nbformat_minor": 0
}
