{
  "cells": [
    {
      "attachments": {},
      "cell_type": "markdown",
      "metadata": {},
      "source": [
        "# **PCA and PCR Analysis**"
      ]
    },
    {
      "attachments": {},
      "cell_type": "markdown",
      "metadata": {},
      "source": [
        "Challenge Overview and more data description: [House Prices - Advanced Regression Techniques](https://www.kaggle.com/competitions/house-prices-advanced-regression-techniques)\n",
        "\n",
        "Worked by: \n",
        "- Santiago Arévalo Valencia\n",
        "- Gilmar Andrés Amezquita\n",
        "- Jhan Carlos Carvajal"
      ]
    },
    {
      "attachments": {},
      "cell_type": "markdown",
      "metadata": {},
      "source": [
        "### Libraries Imports"
      ]
    },
    {
      "cell_type": "code",
      "execution_count": 1,
      "metadata": {},
      "outputs": [],
      "source": [
        "# Data manipulation\n",
        "# ==============================================================================\n",
        "import numpy as np\n",
        "import pandas as pd\n",
        "import statsmodels.api as sm\n",
        "\n",
        "# Graphics\n",
        "# ==============================================================================\n",
        "import matplotlib.pyplot as plt\n",
        "import matplotlib.font_manager\n",
        "from matplotlib import style\n",
        "style.use('ggplot') or plt.style.use('ggplot')\n",
        "\n",
        "# Preprocessing, modeling and metrics\n",
        "# ==============================================================================\n",
        "from sklearn.decomposition import PCA\n",
        "from sklearn.pipeline import make_pipeline\n",
        "from sklearn.preprocessing import StandardScaler\n",
        "from sklearn.model_selection import KFold\n",
        "from sklearn.model_selection import GridSearchCV\n",
        "from sklearn.linear_model import LinearRegression\n",
        "from sklearn.model_selection import train_test_split\n",
        "from sklearn.metrics import mean_squared_error\n",
        "import multiprocessing\n",
        "\n",
        "# Warnings configuration\n",
        "# ==============================================================================\n",
        "import warnings\n",
        "warnings.filterwarnings('ignore')"
      ]
    },
    {
      "attachments": {},
      "cell_type": "markdown",
      "metadata": {},
      "source": [
        "### Data Upload"
      ]
    },
    {
      "cell_type": "code",
      "execution_count": 16,
      "metadata": {
        "id": "-ZxCBRvQRDlh"
      },
      "outputs": [],
      "source": [
        "# The aim is to train a model with the objective of predicting home sales prices.\n",
        "# ==============================================================================\n",
        "\n",
        "train_df = pd.read_csv('https://raw.githubusercontent.com/santiagoarevalo/artificial_intelligence/PCR-Analysis/train.csv')\n",
        "test_df = pd.read_csv('https://raw.githubusercontent.com/santiagoarevalo/artificial_intelligence/PCR-Analysis/test.csv')"
      ]
    },
    {
      "attachments": {},
      "cell_type": "markdown",
      "metadata": {
        "id": "8ToW4JruX_tQ"
      },
      "source": [
        "### First View of Data"
      ]
    },
    {
      "cell_type": "code",
      "execution_count": 17,
      "metadata": {
        "colab": {
          "base_uri": "https://localhost:8080/",
          "height": 300
        },
        "id": "ScqsBJqC4FR8",
        "outputId": "7c7675da-999c-417a-bdc6-43ff27ba4a9d"
      },
      "outputs": [
        {
          "data": {
            "text/html": [
              "<div>\n",
              "<style scoped>\n",
              "    .dataframe tbody tr th:only-of-type {\n",
              "        vertical-align: middle;\n",
              "    }\n",
              "\n",
              "    .dataframe tbody tr th {\n",
              "        vertical-align: top;\n",
              "    }\n",
              "\n",
              "    .dataframe thead th {\n",
              "        text-align: right;\n",
              "    }\n",
              "</style>\n",
              "<table border=\"1\" class=\"dataframe\">\n",
              "  <thead>\n",
              "    <tr style=\"text-align: right;\">\n",
              "      <th></th>\n",
              "      <th>Id</th>\n",
              "      <th>MSSubClass</th>\n",
              "      <th>MSZoning</th>\n",
              "      <th>LotFrontage</th>\n",
              "      <th>LotArea</th>\n",
              "      <th>Street</th>\n",
              "      <th>Alley</th>\n",
              "      <th>LotShape</th>\n",
              "      <th>LandContour</th>\n",
              "      <th>Utilities</th>\n",
              "      <th>...</th>\n",
              "      <th>PoolArea</th>\n",
              "      <th>PoolQC</th>\n",
              "      <th>Fence</th>\n",
              "      <th>MiscFeature</th>\n",
              "      <th>MiscVal</th>\n",
              "      <th>MoSold</th>\n",
              "      <th>YrSold</th>\n",
              "      <th>SaleType</th>\n",
              "      <th>SaleCondition</th>\n",
              "      <th>SalePrice</th>\n",
              "    </tr>\n",
              "  </thead>\n",
              "  <tbody>\n",
              "    <tr>\n",
              "      <th>0</th>\n",
              "      <td>1</td>\n",
              "      <td>60</td>\n",
              "      <td>RL</td>\n",
              "      <td>65.0</td>\n",
              "      <td>8450</td>\n",
              "      <td>Pave</td>\n",
              "      <td>NaN</td>\n",
              "      <td>Reg</td>\n",
              "      <td>Lvl</td>\n",
              "      <td>AllPub</td>\n",
              "      <td>...</td>\n",
              "      <td>0</td>\n",
              "      <td>NaN</td>\n",
              "      <td>NaN</td>\n",
              "      <td>NaN</td>\n",
              "      <td>0</td>\n",
              "      <td>2</td>\n",
              "      <td>2008</td>\n",
              "      <td>WD</td>\n",
              "      <td>Normal</td>\n",
              "      <td>208500</td>\n",
              "    </tr>\n",
              "    <tr>\n",
              "      <th>1</th>\n",
              "      <td>2</td>\n",
              "      <td>20</td>\n",
              "      <td>RL</td>\n",
              "      <td>80.0</td>\n",
              "      <td>9600</td>\n",
              "      <td>Pave</td>\n",
              "      <td>NaN</td>\n",
              "      <td>Reg</td>\n",
              "      <td>Lvl</td>\n",
              "      <td>AllPub</td>\n",
              "      <td>...</td>\n",
              "      <td>0</td>\n",
              "      <td>NaN</td>\n",
              "      <td>NaN</td>\n",
              "      <td>NaN</td>\n",
              "      <td>0</td>\n",
              "      <td>5</td>\n",
              "      <td>2007</td>\n",
              "      <td>WD</td>\n",
              "      <td>Normal</td>\n",
              "      <td>181500</td>\n",
              "    </tr>\n",
              "    <tr>\n",
              "      <th>2</th>\n",
              "      <td>3</td>\n",
              "      <td>60</td>\n",
              "      <td>RL</td>\n",
              "      <td>68.0</td>\n",
              "      <td>11250</td>\n",
              "      <td>Pave</td>\n",
              "      <td>NaN</td>\n",
              "      <td>IR1</td>\n",
              "      <td>Lvl</td>\n",
              "      <td>AllPub</td>\n",
              "      <td>...</td>\n",
              "      <td>0</td>\n",
              "      <td>NaN</td>\n",
              "      <td>NaN</td>\n",
              "      <td>NaN</td>\n",
              "      <td>0</td>\n",
              "      <td>9</td>\n",
              "      <td>2008</td>\n",
              "      <td>WD</td>\n",
              "      <td>Normal</td>\n",
              "      <td>223500</td>\n",
              "    </tr>\n",
              "    <tr>\n",
              "      <th>3</th>\n",
              "      <td>4</td>\n",
              "      <td>70</td>\n",
              "      <td>RL</td>\n",
              "      <td>60.0</td>\n",
              "      <td>9550</td>\n",
              "      <td>Pave</td>\n",
              "      <td>NaN</td>\n",
              "      <td>IR1</td>\n",
              "      <td>Lvl</td>\n",
              "      <td>AllPub</td>\n",
              "      <td>...</td>\n",
              "      <td>0</td>\n",
              "      <td>NaN</td>\n",
              "      <td>NaN</td>\n",
              "      <td>NaN</td>\n",
              "      <td>0</td>\n",
              "      <td>2</td>\n",
              "      <td>2006</td>\n",
              "      <td>WD</td>\n",
              "      <td>Abnorml</td>\n",
              "      <td>140000</td>\n",
              "    </tr>\n",
              "    <tr>\n",
              "      <th>4</th>\n",
              "      <td>5</td>\n",
              "      <td>60</td>\n",
              "      <td>RL</td>\n",
              "      <td>84.0</td>\n",
              "      <td>14260</td>\n",
              "      <td>Pave</td>\n",
              "      <td>NaN</td>\n",
              "      <td>IR1</td>\n",
              "      <td>Lvl</td>\n",
              "      <td>AllPub</td>\n",
              "      <td>...</td>\n",
              "      <td>0</td>\n",
              "      <td>NaN</td>\n",
              "      <td>NaN</td>\n",
              "      <td>NaN</td>\n",
              "      <td>0</td>\n",
              "      <td>12</td>\n",
              "      <td>2008</td>\n",
              "      <td>WD</td>\n",
              "      <td>Normal</td>\n",
              "      <td>250000</td>\n",
              "    </tr>\n",
              "  </tbody>\n",
              "</table>\n",
              "<p>5 rows × 81 columns</p>\n",
              "</div>"
            ],
            "text/plain": [
              "   Id  MSSubClass MSZoning  LotFrontage  LotArea Street Alley LotShape  \\\n",
              "0   1          60       RL         65.0     8450   Pave   NaN      Reg   \n",
              "1   2          20       RL         80.0     9600   Pave   NaN      Reg   \n",
              "2   3          60       RL         68.0    11250   Pave   NaN      IR1   \n",
              "3   4          70       RL         60.0     9550   Pave   NaN      IR1   \n",
              "4   5          60       RL         84.0    14260   Pave   NaN      IR1   \n",
              "\n",
              "  LandContour Utilities  ... PoolArea PoolQC Fence MiscFeature MiscVal MoSold  \\\n",
              "0         Lvl    AllPub  ...        0    NaN   NaN         NaN       0      2   \n",
              "1         Lvl    AllPub  ...        0    NaN   NaN         NaN       0      5   \n",
              "2         Lvl    AllPub  ...        0    NaN   NaN         NaN       0      9   \n",
              "3         Lvl    AllPub  ...        0    NaN   NaN         NaN       0      2   \n",
              "4         Lvl    AllPub  ...        0    NaN   NaN         NaN       0     12   \n",
              "\n",
              "  YrSold  SaleType  SaleCondition  SalePrice  \n",
              "0   2008        WD         Normal     208500  \n",
              "1   2007        WD         Normal     181500  \n",
              "2   2008        WD         Normal     223500  \n",
              "3   2006        WD        Abnorml     140000  \n",
              "4   2008        WD         Normal     250000  \n",
              "\n",
              "[5 rows x 81 columns]"
            ]
          },
          "execution_count": 17,
          "metadata": {},
          "output_type": "execute_result"
        }
      ],
      "source": [
        "train_df.head()"
      ]
    },
    {
      "cell_type": "code",
      "execution_count": 18,
      "metadata": {
        "colab": {
          "base_uri": "https://localhost:8080/"
        },
        "id": "aqYBEbf2VeES",
        "outputId": "5a5d1efc-6e4e-47ee-eb90-8cddedfcee56"
      },
      "outputs": [
        {
          "name": "stdout",
          "output_type": "stream",
          "text": [
            "<class 'pandas.core.frame.DataFrame'>\n",
            "RangeIndex: 1460 entries, 0 to 1459\n",
            "Data columns (total 81 columns):\n",
            " #   Column         Non-Null Count  Dtype  \n",
            "---  ------         --------------  -----  \n",
            " 0   Id             1460 non-null   int64  \n",
            " 1   MSSubClass     1460 non-null   int64  \n",
            " 2   MSZoning       1460 non-null   object \n",
            " 3   LotFrontage    1201 non-null   float64\n",
            " 4   LotArea        1460 non-null   int64  \n",
            " 5   Street         1460 non-null   object \n",
            " 6   Alley          91 non-null     object \n",
            " 7   LotShape       1460 non-null   object \n",
            " 8   LandContour    1460 non-null   object \n",
            " 9   Utilities      1460 non-null   object \n",
            " 10  LotConfig      1460 non-null   object \n",
            " 11  LandSlope      1460 non-null   object \n",
            " 12  Neighborhood   1460 non-null   object \n",
            " 13  Condition1     1460 non-null   object \n",
            " 14  Condition2     1460 non-null   object \n",
            " 15  BldgType       1460 non-null   object \n",
            " 16  HouseStyle     1460 non-null   object \n",
            " 17  OverallQual    1460 non-null   int64  \n",
            " 18  OverallCond    1460 non-null   int64  \n",
            " 19  YearBuilt      1460 non-null   int64  \n",
            " 20  YearRemodAdd   1460 non-null   int64  \n",
            " 21  RoofStyle      1460 non-null   object \n",
            " 22  RoofMatl       1460 non-null   object \n",
            " 23  Exterior1st    1460 non-null   object \n",
            " 24  Exterior2nd    1460 non-null   object \n",
            " 25  MasVnrType     1452 non-null   object \n",
            " 26  MasVnrArea     1452 non-null   float64\n",
            " 27  ExterQual      1460 non-null   object \n",
            " 28  ExterCond      1460 non-null   object \n",
            " 29  Foundation     1460 non-null   object \n",
            " 30  BsmtQual       1423 non-null   object \n",
            " 31  BsmtCond       1423 non-null   object \n",
            " 32  BsmtExposure   1422 non-null   object \n",
            " 33  BsmtFinType1   1423 non-null   object \n",
            " 34  BsmtFinSF1     1460 non-null   int64  \n",
            " 35  BsmtFinType2   1422 non-null   object \n",
            " 36  BsmtFinSF2     1460 non-null   int64  \n",
            " 37  BsmtUnfSF      1460 non-null   int64  \n",
            " 38  TotalBsmtSF    1460 non-null   int64  \n",
            " 39  Heating        1460 non-null   object \n",
            " 40  HeatingQC      1460 non-null   object \n",
            " 41  CentralAir     1460 non-null   object \n",
            " 42  Electrical     1459 non-null   object \n",
            " 43  1stFlrSF       1460 non-null   int64  \n",
            " 44  2ndFlrSF       1460 non-null   int64  \n",
            " 45  LowQualFinSF   1460 non-null   int64  \n",
            " 46  GrLivArea      1460 non-null   int64  \n",
            " 47  BsmtFullBath   1460 non-null   int64  \n",
            " 48  BsmtHalfBath   1460 non-null   int64  \n",
            " 49  FullBath       1460 non-null   int64  \n",
            " 50  HalfBath       1460 non-null   int64  \n",
            " 51  BedroomAbvGr   1460 non-null   int64  \n",
            " 52  KitchenAbvGr   1460 non-null   int64  \n",
            " 53  KitchenQual    1460 non-null   object \n",
            " 54  TotRmsAbvGrd   1460 non-null   int64  \n",
            " 55  Functional     1460 non-null   object \n",
            " 56  Fireplaces     1460 non-null   int64  \n",
            " 57  FireplaceQu    770 non-null    object \n",
            " 58  GarageType     1379 non-null   object \n",
            " 59  GarageYrBlt    1379 non-null   float64\n",
            " 60  GarageFinish   1379 non-null   object \n",
            " 61  GarageCars     1460 non-null   int64  \n",
            " 62  GarageArea     1460 non-null   int64  \n",
            " 63  GarageQual     1379 non-null   object \n",
            " 64  GarageCond     1379 non-null   object \n",
            " 65  PavedDrive     1460 non-null   object \n",
            " 66  WoodDeckSF     1460 non-null   int64  \n",
            " 67  OpenPorchSF    1460 non-null   int64  \n",
            " 68  EnclosedPorch  1460 non-null   int64  \n",
            " 69  3SsnPorch      1460 non-null   int64  \n",
            " 70  ScreenPorch    1460 non-null   int64  \n",
            " 71  PoolArea       1460 non-null   int64  \n",
            " 72  PoolQC         7 non-null      object \n",
            " 73  Fence          281 non-null    object \n",
            " 74  MiscFeature    54 non-null     object \n",
            " 75  MiscVal        1460 non-null   int64  \n",
            " 76  MoSold         1460 non-null   int64  \n",
            " 77  YrSold         1460 non-null   int64  \n",
            " 78  SaleType       1460 non-null   object \n",
            " 79  SaleCondition  1460 non-null   object \n",
            " 80  SalePrice      1460 non-null   int64  \n",
            "dtypes: float64(3), int64(35), object(43)\n",
            "memory usage: 924.0+ KB\n"
          ]
        }
      ],
      "source": [
        "train_df.info()"
      ]
    },
    {
      "attachments": {},
      "cell_type": "markdown",
      "metadata": {},
      "source": [
        "### Mean Value and Dispersion of Data"
      ]
    },
    {
      "cell_type": "code",
      "execution_count": 5,
      "metadata": {},
      "outputs": [
        {
          "name": "stdout",
          "output_type": "stream",
          "text": [
            "----------------------\n",
            "Media de cada variable\n",
            "----------------------\n",
            "-------------------------\n",
            "Varianza de cada variable\n",
            "-------------------------\n"
          ]
        },
        {
          "data": {
            "text/plain": [
              "Id               1.777550e+05\n",
              "MSSubClass       1.789338e+03\n",
              "LotFrontage      5.897492e+02\n",
              "LotArea          9.962565e+07\n",
              "OverallQual      1.912679e+00\n",
              "OverallCond      1.238322e+00\n",
              "YearBuilt        9.122154e+02\n",
              "YearRemodAdd     4.262328e+02\n",
              "MasVnrArea       3.278497e+04\n",
              "BsmtFinSF1       2.080255e+05\n",
              "BsmtFinSF2       2.602391e+04\n",
              "BsmtUnfSF        1.952464e+05\n",
              "TotalBsmtSF      1.924624e+05\n",
              "1stFlrSF         1.494501e+05\n",
              "2ndFlrSF         1.905571e+05\n",
              "LowQualFinSF     2.364204e+03\n",
              "GrLivArea        2.761296e+05\n",
              "BsmtFullBath     2.692682e-01\n",
              "BsmtHalfBath     5.700283e-02\n",
              "FullBath         3.035082e-01\n",
              "HalfBath         2.528937e-01\n",
              "BedroomAbvGr     6.654938e-01\n",
              "KitchenAbvGr     4.854892e-02\n",
              "TotRmsAbvGrd     2.641903e+00\n",
              "Fireplaces       4.155947e-01\n",
              "GarageYrBlt      6.095825e+02\n",
              "GarageCars       5.584797e-01\n",
              "GarageArea       4.571251e+04\n",
              "WoodDeckSF       1.570981e+04\n",
              "OpenPorchSF      4.389861e+03\n",
              "EnclosedPorch    3.735550e+03\n",
              "3SsnPorch        8.595059e+02\n",
              "ScreenPorch      3.108889e+03\n",
              "PoolArea         1.614216e+03\n",
              "MiscVal          2.461381e+05\n",
              "MoSold           7.309595e+00\n",
              "YrSold           1.763837e+00\n",
              "SalePrice        6.311111e+09\n",
              "dtype: float64"
            ]
          },
          "execution_count": 5,
          "metadata": {},
          "output_type": "execute_result"
        }
      ],
      "source": [
        "# Mean of each variable\n",
        "print('----------------------')\n",
        "print('Media de cada variable')\n",
        "print('----------------------')\n",
        "train_df.mean(axis = 0)\n",
        "\n",
        "# Variance of each variable\n",
        "print('-------------------------')\n",
        "print('Varianza de cada variable')\n",
        "print('-------------------------')\n",
        "train_df.var(axis = 0)"
      ]
    },
    {
      "attachments": {},
      "cell_type": "markdown",
      "metadata": {
        "id": "c5wcj9KIW1MG"
      },
      "source": [
        "## **Data Cleaning**"
      ]
    },
    {
      "attachments": {},
      "cell_type": "markdown",
      "metadata": {},
      "source": [
        "#### *Dropping categorial variables*"
      ]
    },
    {
      "cell_type": "code",
      "execution_count": 19,
      "metadata": {
        "colab": {
          "base_uri": "https://localhost:8080/"
        },
        "id": "Jb_LyN70WvUK",
        "outputId": "8f633fc4-64da-4354-bcbb-e88d8dc24afe"
      },
      "outputs": [
        {
          "name": "stdout",
          "output_type": "stream",
          "text": [
            "<class 'pandas.core.frame.DataFrame'>\n",
            "RangeIndex: 1460 entries, 0 to 1459\n",
            "Data columns (total 37 columns):\n",
            " #   Column         Non-Null Count  Dtype  \n",
            "---  ------         --------------  -----  \n",
            " 0   MSSubClass     1460 non-null   int64  \n",
            " 1   LotFrontage    1201 non-null   float64\n",
            " 2   LotArea        1460 non-null   int64  \n",
            " 3   OverallQual    1460 non-null   int64  \n",
            " 4   OverallCond    1460 non-null   int64  \n",
            " 5   YearBuilt      1460 non-null   int64  \n",
            " 6   YearRemodAdd   1460 non-null   int64  \n",
            " 7   MasVnrArea     1452 non-null   float64\n",
            " 8   BsmtFinSF1     1460 non-null   int64  \n",
            " 9   BsmtFinSF2     1460 non-null   int64  \n",
            " 10  BsmtUnfSF      1460 non-null   int64  \n",
            " 11  TotalBsmtSF    1460 non-null   int64  \n",
            " 12  1stFlrSF       1460 non-null   int64  \n",
            " 13  2ndFlrSF       1460 non-null   int64  \n",
            " 14  LowQualFinSF   1460 non-null   int64  \n",
            " 15  GrLivArea      1460 non-null   int64  \n",
            " 16  BsmtFullBath   1460 non-null   int64  \n",
            " 17  BsmtHalfBath   1460 non-null   int64  \n",
            " 18  FullBath       1460 non-null   int64  \n",
            " 19  HalfBath       1460 non-null   int64  \n",
            " 20  BedroomAbvGr   1460 non-null   int64  \n",
            " 21  KitchenAbvGr   1460 non-null   int64  \n",
            " 22  TotRmsAbvGrd   1460 non-null   int64  \n",
            " 23  Fireplaces     1460 non-null   int64  \n",
            " 24  GarageYrBlt    1379 non-null   float64\n",
            " 25  GarageCars     1460 non-null   int64  \n",
            " 26  GarageArea     1460 non-null   int64  \n",
            " 27  WoodDeckSF     1460 non-null   int64  \n",
            " 28  OpenPorchSF    1460 non-null   int64  \n",
            " 29  EnclosedPorch  1460 non-null   int64  \n",
            " 30  3SsnPorch      1460 non-null   int64  \n",
            " 31  ScreenPorch    1460 non-null   int64  \n",
            " 32  PoolArea       1460 non-null   int64  \n",
            " 33  MiscVal        1460 non-null   int64  \n",
            " 34  MoSold         1460 non-null   int64  \n",
            " 35  YrSold         1460 non-null   int64  \n",
            " 36  SalePrice      1460 non-null   int64  \n",
            "dtypes: float64(3), int64(34)\n",
            "memory usage: 422.2 KB\n"
          ]
        }
      ],
      "source": [
        "#Delete the id column\n",
        "train_df = train_df.drop(columns=['Id'])\n",
        "\n",
        "# Identify the categorical variables with data type 'object' and delete them\n",
        "df_temp = train_df.copy()\n",
        "non_numeric = df_temp.select_dtypes(include=['object'])\n",
        "df_temp = df_temp.drop(columns=non_numeric)\n",
        "df_temp.shape\n",
        "df_temp.info()"
      ]
    },
    {
      "attachments": {},
      "cell_type": "markdown",
      "metadata": {},
      "source": [
        "#### *Identifying duplicates and null values*"
      ]
    },
    {
      "cell_type": "code",
      "execution_count": 20,
      "metadata": {
        "colab": {
          "base_uri": "https://localhost:8080/"
        },
        "id": "R89QuJBXYhzO",
        "outputId": "da990de3-34f4-4648-b134-60ac0a1d4f65"
      },
      "outputs": [
        {
          "name": "stdout",
          "output_type": "stream",
          "text": [
            "MSSubClass         0\n",
            "LotFrontage      259\n",
            "LotArea            0\n",
            "OverallQual        0\n",
            "OverallCond        0\n",
            "YearBuilt          0\n",
            "YearRemodAdd       0\n",
            "MasVnrArea         8\n",
            "BsmtFinSF1         0\n",
            "BsmtFinSF2         0\n",
            "BsmtUnfSF          0\n",
            "TotalBsmtSF        0\n",
            "1stFlrSF           0\n",
            "2ndFlrSF           0\n",
            "LowQualFinSF       0\n",
            "GrLivArea          0\n",
            "BsmtFullBath       0\n",
            "BsmtHalfBath       0\n",
            "FullBath           0\n",
            "HalfBath           0\n",
            "BedroomAbvGr       0\n",
            "KitchenAbvGr       0\n",
            "TotRmsAbvGrd       0\n",
            "Fireplaces         0\n",
            "GarageYrBlt       81\n",
            "GarageCars         0\n",
            "GarageArea         0\n",
            "WoodDeckSF         0\n",
            "OpenPorchSF        0\n",
            "EnclosedPorch      0\n",
            "3SsnPorch          0\n",
            "ScreenPorch        0\n",
            "PoolArea           0\n",
            "MiscVal            0\n",
            "MoSold             0\n",
            "YrSold             0\n",
            "SalePrice          0\n",
            "dtype: int64\n",
            "Duplicated values: 0\n"
          ]
        }
      ],
      "source": [
        "dup = df_temp.duplicated().sum()\n",
        "nan = df_temp.isna().sum()\n",
        "print(nan)\n",
        "print(\"Duplicated values: \" + str(dup))"
      ]
    },
    {
      "attachments": {},
      "cell_type": "markdown",
      "metadata": {},
      "source": [
        "#### *Percentage of null values*"
      ]
    },
    {
      "cell_type": "code",
      "execution_count": 21,
      "metadata": {
        "colab": {
          "base_uri": "https://localhost:8080/"
        },
        "id": "BUq8DaTGcKSw",
        "outputId": "cbe4e651-bdf0-4b74-ad0e-e513e278faac"
      },
      "outputs": [
        {
          "name": "stdout",
          "output_type": "stream",
          "text": [
            "MSSubClass        0.000000\n",
            "LotFrontage      17.739726\n",
            "LotArea           0.000000\n",
            "OverallQual       0.000000\n",
            "OverallCond       0.000000\n",
            "YearBuilt         0.000000\n",
            "YearRemodAdd      0.000000\n",
            "MasVnrArea        0.547945\n",
            "BsmtFinSF1        0.000000\n",
            "BsmtFinSF2        0.000000\n",
            "BsmtUnfSF         0.000000\n",
            "TotalBsmtSF       0.000000\n",
            "1stFlrSF          0.000000\n",
            "2ndFlrSF          0.000000\n",
            "LowQualFinSF      0.000000\n",
            "GrLivArea         0.000000\n",
            "BsmtFullBath      0.000000\n",
            "BsmtHalfBath      0.000000\n",
            "FullBath          0.000000\n",
            "HalfBath          0.000000\n",
            "BedroomAbvGr      0.000000\n",
            "KitchenAbvGr      0.000000\n",
            "TotRmsAbvGrd      0.000000\n",
            "Fireplaces        0.000000\n",
            "GarageYrBlt       5.547945\n",
            "GarageCars        0.000000\n",
            "GarageArea        0.000000\n",
            "WoodDeckSF        0.000000\n",
            "OpenPorchSF       0.000000\n",
            "EnclosedPorch     0.000000\n",
            "3SsnPorch         0.000000\n",
            "ScreenPorch       0.000000\n",
            "PoolArea          0.000000\n",
            "MiscVal           0.000000\n",
            "MoSold            0.000000\n",
            "YrSold            0.000000\n",
            "SalePrice         0.000000\n",
            "dtype: float64\n"
          ]
        }
      ],
      "source": [
        "# Obtenemos el porcentaje de valores nulos en cada columna\n",
        "null_percent = df_temp.isnull().sum().apply(lambda x: (x/len(df_temp))*100)\n",
        "\n",
        "# Mostramos el resultado\n",
        "print(null_percent)"
      ]
    },
    {
      "attachments": {},
      "cell_type": "markdown",
      "metadata": {},
      "source": [
        "#### *Dropping null values / Imputing*"
      ]
    },
    {
      "cell_type": "code",
      "execution_count": 22,
      "metadata": {
        "colab": {
          "base_uri": "https://localhost:8080/"
        },
        "id": "VJtioQA-eNsg",
        "outputId": "29459293-9023-4575-b7c6-b7e52efa53c0"
      },
      "outputs": [
        {
          "name": "stdout",
          "output_type": "stream",
          "text": [
            "<class 'pandas.core.frame.DataFrame'>\n",
            "Int64Index: 1371 entries, 0 to 1459\n",
            "Data columns (total 37 columns):\n",
            " #   Column         Non-Null Count  Dtype  \n",
            "---  ------         --------------  -----  \n",
            " 0   MSSubClass     1371 non-null   int64  \n",
            " 1   LotFrontage    1371 non-null   float64\n",
            " 2   LotArea        1371 non-null   int64  \n",
            " 3   OverallQual    1371 non-null   int64  \n",
            " 4   OverallCond    1371 non-null   int64  \n",
            " 5   YearBuilt      1371 non-null   int64  \n",
            " 6   YearRemodAdd   1371 non-null   int64  \n",
            " 7   MasVnrArea     1371 non-null   float64\n",
            " 8   BsmtFinSF1     1371 non-null   int64  \n",
            " 9   BsmtFinSF2     1371 non-null   int64  \n",
            " 10  BsmtUnfSF      1371 non-null   int64  \n",
            " 11  TotalBsmtSF    1371 non-null   int64  \n",
            " 12  1stFlrSF       1371 non-null   int64  \n",
            " 13  2ndFlrSF       1371 non-null   int64  \n",
            " 14  LowQualFinSF   1371 non-null   int64  \n",
            " 15  GrLivArea      1371 non-null   int64  \n",
            " 16  BsmtFullBath   1371 non-null   int64  \n",
            " 17  BsmtHalfBath   1371 non-null   int64  \n",
            " 18  FullBath       1371 non-null   int64  \n",
            " 19  HalfBath       1371 non-null   int64  \n",
            " 20  BedroomAbvGr   1371 non-null   int64  \n",
            " 21  KitchenAbvGr   1371 non-null   int64  \n",
            " 22  TotRmsAbvGrd   1371 non-null   int64  \n",
            " 23  Fireplaces     1371 non-null   int64  \n",
            " 24  GarageYrBlt    1371 non-null   float64\n",
            " 25  GarageCars     1371 non-null   int64  \n",
            " 26  GarageArea     1371 non-null   int64  \n",
            " 27  WoodDeckSF     1371 non-null   int64  \n",
            " 28  OpenPorchSF    1371 non-null   int64  \n",
            " 29  EnclosedPorch  1371 non-null   int64  \n",
            " 30  3SsnPorch      1371 non-null   int64  \n",
            " 31  ScreenPorch    1371 non-null   int64  \n",
            " 32  PoolArea       1371 non-null   int64  \n",
            " 33  MiscVal        1371 non-null   int64  \n",
            " 34  MoSold         1371 non-null   int64  \n",
            " 35  YrSold         1371 non-null   int64  \n",
            " 36  SalePrice      1371 non-null   int64  \n",
            "dtypes: float64(3), int64(34)\n",
            "memory usage: 407.0 KB\n"
          ]
        }
      ],
      "source": [
        "# Drop rows from columns with less than 10% of null values. These are MasVnrArea and GarageYrBlt.\n",
        "df_temp = df_temp.dropna(subset=['MasVnrArea'])\n",
        "df_temp = df_temp.dropna(subset=['GarageYrBlt'])\n",
        "\n",
        "# Average/mean of LotFrontage column\n",
        "mean = df_temp['LotFrontage'].mean()\n",
        "\n",
        "# Replace NaN values with the mean\n",
        "df_temp['LotFrontage'] = df_temp['LotFrontage'].fillna(mean)\n",
        "\n",
        "df_temp.info()"
      ]
    },
    {
      "attachments": {},
      "cell_type": "markdown",
      "metadata": {},
      "source": [
        "## **Correlation between Variables**"
      ]
    },
    {
      "cell_type": "code",
      "execution_count": 23,
      "metadata": {
        "colab": {
          "base_uri": "https://localhost:8080/",
          "height": 206
        },
        "id": "9xVVR3bfUCfd",
        "outputId": "c3f0e3f3-ccea-439a-ea9e-827796b81366"
      },
      "outputs": [
        {
          "data": {
            "text/html": [
              "<div>\n",
              "<style scoped>\n",
              "    .dataframe tbody tr th:only-of-type {\n",
              "        vertical-align: middle;\n",
              "    }\n",
              "\n",
              "    .dataframe tbody tr th {\n",
              "        vertical-align: top;\n",
              "    }\n",
              "\n",
              "    .dataframe thead th {\n",
              "        text-align: right;\n",
              "    }\n",
              "</style>\n",
              "<table border=\"1\" class=\"dataframe\">\n",
              "  <thead>\n",
              "    <tr style=\"text-align: right;\">\n",
              "      <th></th>\n",
              "      <th>variable_1</th>\n",
              "      <th>variable_2</th>\n",
              "      <th>r</th>\n",
              "      <th>abs_r</th>\n",
              "    </tr>\n",
              "  </thead>\n",
              "  <tbody>\n",
              "    <tr>\n",
              "      <th>987</th>\n",
              "      <td>GarageArea</td>\n",
              "      <td>GarageCars</td>\n",
              "      <td>0.882475</td>\n",
              "      <td>0.882475</td>\n",
              "    </tr>\n",
              "    <tr>\n",
              "      <th>951</th>\n",
              "      <td>GarageCars</td>\n",
              "      <td>GarageArea</td>\n",
              "      <td>0.882475</td>\n",
              "      <td>0.882475</td>\n",
              "    </tr>\n",
              "    <tr>\n",
              "      <th>209</th>\n",
              "      <td>YearBuilt</td>\n",
              "      <td>GarageYrBlt</td>\n",
              "      <td>0.825667</td>\n",
              "      <td>0.825667</td>\n",
              "    </tr>\n",
              "    <tr>\n",
              "      <th>893</th>\n",
              "      <td>GarageYrBlt</td>\n",
              "      <td>YearBuilt</td>\n",
              "      <td>0.825667</td>\n",
              "      <td>0.825667</td>\n",
              "    </tr>\n",
              "    <tr>\n",
              "      <th>829</th>\n",
              "      <td>TotRmsAbvGrd</td>\n",
              "      <td>GrLivArea</td>\n",
              "      <td>0.825489</td>\n",
              "      <td>0.825489</td>\n",
              "    </tr>\n",
              "  </tbody>\n",
              "</table>\n",
              "</div>"
            ],
            "text/plain": [
              "       variable_1   variable_2         r     abs_r\n",
              "987    GarageArea   GarageCars  0.882475  0.882475\n",
              "951    GarageCars   GarageArea  0.882475  0.882475\n",
              "209     YearBuilt  GarageYrBlt  0.825667  0.825667\n",
              "893   GarageYrBlt    YearBuilt  0.825667  0.825667\n",
              "829  TotRmsAbvGrd    GrLivArea  0.825489  0.825489"
            ]
          },
          "metadata": {},
          "output_type": "display_data"
        }
      ],
      "source": [
        "# Correlation between numeric variables\n",
        "# ==============================================================================\n",
        "\n",
        "def tidy_corr_matrix(corr_mat):\n",
        "    '''\n",
        "    Función para convertir una matriz de correlación de pandas en formato tidy\n",
        "    '''\n",
        "    corr_mat = corr_mat.stack().reset_index()\n",
        "    corr_mat.columns = ['variable_1','variable_2','r']\n",
        "    corr_mat = corr_mat.loc[corr_mat['variable_1'] != corr_mat['variable_2'], :]\n",
        "    corr_mat['abs_r'] = np.abs(corr_mat['r'])\n",
        "    corr_mat = corr_mat.sort_values('abs_r', ascending=False)\n",
        "    \n",
        "    return(corr_mat)\n",
        "\n",
        "corr_matrix = train_df.select_dtypes(include=['float64', 'int']) \\\n",
        "              .corr(method='pearson')\n",
        "display(tidy_corr_matrix(corr_matrix).head(5))"
      ]
    },
    {
      "attachments": {},
      "cell_type": "markdown",
      "metadata": {
        "id": "GyOxx1mfsOUb"
      },
      "source": [
        "**Absolute Correlation > 0.8** which is a problem when using linear regression models.\n",
        "\n",
        "Two linear models are fitted, one with all the predictors and the other with only some of the components obtained by PCA, in order to identify which of them is better able to predict the fat content of the meat based on the signals recorded by the spectrophotometer."
      ]
    },
    {
      "cell_type": "code",
      "execution_count": 24,
      "metadata": {
        "id": "_sWQDASE3Tz6"
      },
      "outputs": [
        {
          "name": "stdout",
          "output_type": "stream",
          "text": [
            "<class 'pandas.core.frame.DataFrame'>\n",
            "Int64Index: 959 entries, 991 to 867\n",
            "Data columns (total 36 columns):\n",
            " #   Column         Non-Null Count  Dtype  \n",
            "---  ------         --------------  -----  \n",
            " 0   MSSubClass     959 non-null    int64  \n",
            " 1   LotFrontage    959 non-null    float64\n",
            " 2   LotArea        959 non-null    int64  \n",
            " 3   OverallQual    959 non-null    int64  \n",
            " 4   OverallCond    959 non-null    int64  \n",
            " 5   YearBuilt      959 non-null    int64  \n",
            " 6   YearRemodAdd   959 non-null    int64  \n",
            " 7   MasVnrArea     959 non-null    float64\n",
            " 8   BsmtFinSF1     959 non-null    int64  \n",
            " 9   BsmtFinSF2     959 non-null    int64  \n",
            " 10  BsmtUnfSF      959 non-null    int64  \n",
            " 11  TotalBsmtSF    959 non-null    int64  \n",
            " 12  1stFlrSF       959 non-null    int64  \n",
            " 13  2ndFlrSF       959 non-null    int64  \n",
            " 14  LowQualFinSF   959 non-null    int64  \n",
            " 15  GrLivArea      959 non-null    int64  \n",
            " 16  BsmtFullBath   959 non-null    int64  \n",
            " 17  BsmtHalfBath   959 non-null    int64  \n",
            " 18  FullBath       959 non-null    int64  \n",
            " 19  HalfBath       959 non-null    int64  \n",
            " 20  BedroomAbvGr   959 non-null    int64  \n",
            " 21  KitchenAbvGr   959 non-null    int64  \n",
            " 22  TotRmsAbvGrd   959 non-null    int64  \n",
            " 23  Fireplaces     959 non-null    int64  \n",
            " 24  GarageYrBlt    959 non-null    float64\n",
            " 25  GarageCars     959 non-null    int64  \n",
            " 26  GarageArea     959 non-null    int64  \n",
            " 27  WoodDeckSF     959 non-null    int64  \n",
            " 28  OpenPorchSF    959 non-null    int64  \n",
            " 29  EnclosedPorch  959 non-null    int64  \n",
            " 30  3SsnPorch      959 non-null    int64  \n",
            " 31  ScreenPorch    959 non-null    int64  \n",
            " 32  PoolArea       959 non-null    int64  \n",
            " 33  MiscVal        959 non-null    int64  \n",
            " 34  MoSold         959 non-null    int64  \n",
            " 35  YrSold         959 non-null    int64  \n",
            "dtypes: float64(3), int64(33)\n",
            "memory usage: 277.2 KB\n"
          ]
        }
      ],
      "source": [
        "# Division of data into training and test sets\n",
        "# ==============================================================================\n",
        "\n",
        "X = df_temp.drop(columns=['SalePrice'])\n",
        "y = df_temp['SalePrice']\n",
        "\n",
        "X_train, X_test, y_train, y_test = train_test_split(\n",
        "                                        X,\n",
        "                                        y.values.reshape(-1,1),\n",
        "                                        train_size   = 0.7,\n",
        "                                        random_state = 1234,\n",
        "                                        shuffle      = True\n",
        "                                    )\n",
        "X_train.info()\n"
      ]
    },
    {
      "attachments": {},
      "cell_type": "markdown",
      "metadata": {},
      "source": [
        "Two linear models are fitted, one with all the predictors and the other with only some of the components obtained by PCA, in order to identify which of them is better able to predict the selling price."
      ]
    },
    {
      "cell_type": "code",
      "execution_count": 26,
      "metadata": {},
      "outputs": [
        {
          "data": {
            "text/plain": [
              "LinearRegression()"
            ]
          },
          "execution_count": 26,
          "metadata": {},
          "output_type": "execute_result"
        }
      ],
      "source": [
        "# Creation and training of the model\n",
        "# ==============================================================================\n",
        "# Solve this error: Input contains NaN, infinity or a value too large for dtype('float64')\n",
        "\n",
        "modelo = LinearRegression()\n",
        "modelo.fit(X = X_train, y = y_train)"
      ]
    },
    {
      "cell_type": "code",
      "execution_count": 27,
      "metadata": {},
      "outputs": [
        {
          "name": "stdout",
          "output_type": "stream",
          "text": [
            "\n",
            "El error (rmse) de test es: 45864.35082896595\n"
          ]
        }
      ],
      "source": [
        "# Test predictions\n",
        "# ==============================================================================\n",
        "predicciones = modelo.predict(X=X_test)\n",
        "predicciones = predicciones.flatten()\n",
        "\n",
        "# Model test error\n",
        "# ==============================================================================\n",
        "rmse_ols = mean_squared_error(\n",
        "            y_true  = y_test,\n",
        "            y_pred  = predicciones,\n",
        "            squared = False\n",
        "           )\n",
        "print(\"\")\n",
        "print(f\"El error (rmse) de test es: {rmse_ols}\")"
      ]
    },
    {
      "cell_type": "code",
      "execution_count": 28,
      "metadata": {},
      "outputs": [
        {
          "data": {
            "text/plain": [
              "Pipeline(steps=[('standardscaler', StandardScaler()), ('pca', PCA()),\n",
              "                ('linearregression', LinearRegression())])"
            ]
          },
          "execution_count": 28,
          "metadata": {},
          "output_type": "execute_result"
        }
      ],
      "source": [
        "# Training regression model preceded by PCA with scaling\n",
        "# ==============================================================================\n",
        "\n",
        "pipe_modelado = make_pipeline(StandardScaler(), PCA(), LinearRegression())\n",
        "pipe_modelado.fit(X=X_train, y=y_train)"
      ]
    },
    {
      "cell_type": "code",
      "execution_count": 29,
      "metadata": {},
      "outputs": [
        {
          "data": {
            "text/plain": [
              "<bound method Pipeline.set_params of Pipeline(steps=[('standardscaler', StandardScaler()), ('pca', PCA()),\n",
              "                ('linearregression', LinearRegression())])>"
            ]
          },
          "execution_count": 29,
          "metadata": {},
          "output_type": "execute_result"
        }
      ],
      "source": [
        "pipe_modelado.set_params"
      ]
    },
    {
      "cell_type": "code",
      "execution_count": 30,
      "metadata": {},
      "outputs": [
        {
          "name": "stdout",
          "output_type": "stream",
          "text": [
            "\n",
            "El error (rmse) de test es: 45883.117561794264\n"
          ]
        }
      ],
      "source": [
        "# Test predictions\n",
        "# ==============================================================================\n",
        "predicciones = pipe_modelado.predict(X=X_test)\n",
        "predicciones = predicciones.flatten()\n",
        "\n",
        "# Model test error\n",
        "# ==============================================================================\n",
        "rmse_pcr = mean_squared_error(\n",
        "            y_true  = y_test,\n",
        "            y_pred  = predicciones,\n",
        "            squared = False\n",
        "           )\n",
        "print(\"\")\n",
        "print(f\"El error (rmse) de test es: {rmse_pcr}\")"
      ]
    },
    {
      "cell_type": "code",
      "execution_count": 31,
      "metadata": {},
      "outputs": [
        {
          "data": {
            "text/html": [
              "<div>\n",
              "<style scoped>\n",
              "    .dataframe tbody tr th:only-of-type {\n",
              "        vertical-align: middle;\n",
              "    }\n",
              "\n",
              "    .dataframe tbody tr th {\n",
              "        vertical-align: top;\n",
              "    }\n",
              "\n",
              "    .dataframe thead th {\n",
              "        text-align: right;\n",
              "    }\n",
              "</style>\n",
              "<table border=\"1\" class=\"dataframe\">\n",
              "  <thead>\n",
              "    <tr style=\"text-align: right;\">\n",
              "      <th></th>\n",
              "      <th>param_pca__n_components</th>\n",
              "      <th>mean_test_score</th>\n",
              "      <th>std_test_score</th>\n",
              "      <th>mean_train_score</th>\n",
              "      <th>std_train_score</th>\n",
              "    </tr>\n",
              "  </thead>\n",
              "  <tbody>\n",
              "    <tr>\n",
              "      <th>6</th>\n",
              "      <td>15</td>\n",
              "      <td>-37727.474610</td>\n",
              "      <td>8138.616374</td>\n",
              "      <td>-34943.842888</td>\n",
              "      <td>1751.566686</td>\n",
              "    </tr>\n",
              "    <tr>\n",
              "      <th>4</th>\n",
              "      <td>8</td>\n",
              "      <td>-37957.112368</td>\n",
              "      <td>7540.742323</td>\n",
              "      <td>-36379.965298</td>\n",
              "      <td>2138.383080</td>\n",
              "    </tr>\n",
              "    <tr>\n",
              "      <th>8</th>\n",
              "      <td>30</td>\n",
              "      <td>-38069.774562</td>\n",
              "      <td>9839.877611</td>\n",
              "      <td>-31328.529787</td>\n",
              "      <td>1620.130636</td>\n",
              "    </tr>\n",
              "  </tbody>\n",
              "</table>\n",
              "</div>"
            ],
            "text/plain": [
              "  param_pca__n_components  mean_test_score  std_test_score  mean_train_score  \\\n",
              "6                      15    -37727.474610     8138.616374     -34943.842888   \n",
              "4                       8    -37957.112368     7540.742323     -36379.965298   \n",
              "8                      30    -38069.774562     9839.877611     -31328.529787   \n",
              "\n",
              "   std_train_score  \n",
              "6      1751.566686  \n",
              "4      2138.383080  \n",
              "8      1620.130636  "
            ]
          },
          "execution_count": 31,
          "metadata": {},
          "output_type": "execute_result"
        }
      ],
      "source": [
        "# Grid of evaluated hyperparameters\n",
        "# ==============================================================================\n",
        "param_grid = {'pca__n_components': [1, 2, 4, 6, 8, 10, 15, 20, 30, 50]}\n",
        "\n",
        "# Grid search with cross validation\n",
        "# ==============================================================================\n",
        "grid = GridSearchCV(\n",
        "        estimator  = pipe_modelado,\n",
        "        param_grid = param_grid,\n",
        "        scoring    = 'neg_root_mean_squared_error',\n",
        "        n_jobs     = multiprocessing.cpu_count() - 1,\n",
        "        cv         = KFold(n_splits=5, random_state=123,shuffle=True), \n",
        "        refit      = True,\n",
        "        verbose    = 0,\n",
        "        return_train_score = True,\n",
        "        \n",
        "\n",
        "       )\n",
        "\n",
        "grid.fit(X = X_train, y = y_train)\n",
        "\n",
        "# Resultados\n",
        "# ==============================================================================\n",
        "results = pd.DataFrame(grid.cv_results_)\n",
        "results.filter(regex = '(param.*|mean_t|std_t)') \\\n",
        "    .drop(columns = 'params') \\\n",
        "    .sort_values('mean_test_score', ascending = False) \\\n",
        "    .head(3)"
      ]
    },
    {
      "cell_type": "code",
      "execution_count": 32,
      "metadata": {},
      "outputs": [
        {
          "data": {
            "image/png": "[encoded data removed]",
            "text/plain": [
              "<Figure size 700x384 with 1 Axes>"
            ]
          },
          "metadata": {},
          "output_type": "display_data"
        }
      ],
      "source": [
        "# Cross-validation results graph for each hyperparameter\n",
        "# ==============================================================================\n",
        "fig, ax = plt.subplots(nrows=1, ncols=1, figsize=(7, 3.84), sharey=True)\n",
        "\n",
        "results.plot('param_pca__n_components', 'mean_train_score', ax=ax)\n",
        "results.plot('param_pca__n_components', 'mean_test_score', ax=ax)\n",
        "ax.fill_between(results.param_pca__n_components.astype(np.float),\n",
        "                results['mean_train_score'] + results['std_train_score'],\n",
        "                results['mean_train_score'] - results['std_train_score'],\n",
        "                alpha=0.2)\n",
        "ax.fill_between(results.param_pca__n_components.astype(np.float),\n",
        "                results['mean_test_score'] + results['std_test_score'],\n",
        "                results['mean_test_score'] - results['std_test_score'],\n",
        "                alpha=0.2)\n",
        "ax.legend()\n",
        "ax.set_title('Evolución del error CV')\n",
        "ax.set_ylabel('neg_root_mean_squared_error');"
      ]
    },
    {
      "cell_type": "code",
      "execution_count": 33,
      "metadata": {},
      "outputs": [
        {
          "name": "stdout",
          "output_type": "stream",
          "text": [
            "----------------------------------------\n",
            "Mejores hiperparámetros encontrados (cv)\n",
            "----------------------------------------\n",
            "{'pca__n_components': 15} : -37727.474609682 neg_root_mean_squared_error\n"
          ]
        }
      ],
      "source": [
        "# Best hyperparameters by cross-validation\n",
        "# ==============================================================================\n",
        "print(\"----------------------------------------\")\n",
        "print(\"Mejores hiperparámetros encontrados (cv)\")\n",
        "print(\"----------------------------------------\")\n",
        "print(grid.best_params_, \":\", grid.best_score_, grid.scoring)"
      ]
    },
    {
      "cell_type": "code",
      "execution_count": 34,
      "metadata": {},
      "outputs": [
        {
          "data": {
            "text/plain": [
              "Pipeline(steps=[('standardscaler', StandardScaler()),\n",
              "                ('pca', PCA(n_components=5)),\n",
              "                ('linearregression', LinearRegression())])"
            ]
          },
          "execution_count": 34,
          "metadata": {},
          "output_type": "execute_result"
        }
      ],
      "source": [
        "# Training regression model preceded by PCA with scaling\n",
        "# ==============================================================================\n",
        "pipe_modelado = make_pipeline(StandardScaler(), PCA(n_components=5), LinearRegression())\n",
        "pipe_modelado.fit(X=X_train, y=y_train)"
      ]
    },
    {
      "cell_type": "code",
      "execution_count": 35,
      "metadata": {},
      "outputs": [
        {
          "name": "stdout",
          "output_type": "stream",
          "text": [
            "\n",
            "El error (rmse) de test es: 41733.78036093673\n"
          ]
        }
      ],
      "source": [
        "# Predicciones test\n",
        "# ==============================================================================\n",
        "predicciones = pipe_modelado.predict(X=X_test)\n",
        "predicciones = predicciones.flatten()\n",
        "\n",
        "# Error de test del modelo \n",
        "# ==============================================================================\n",
        "rmse_pcr = mean_squared_error(\n",
        "            y_true  = y_test,\n",
        "            y_pred  = predicciones,\n",
        "            squared = False\n",
        "           )\n",
        "print(\"\")\n",
        "print(f\"El error (rmse) de test es: {rmse_pcr}\")"
      ]
    }
  ],
  "metadata": {
    "colab": {
      "provenance": []
    },
    "kernelspec": {
      "display_name": "Python 3",
      "name": "python3"
    },
    "language_info": {
      "codemirror_mode": {
        "name": "ipython",
        "version": 3
      },
      "file_extension": ".py",
      "mimetype": "text/x-python",
      "name": "python",
      "nbconvert_exporter": "python",
      "pygments_lexer": "ipython3",
      "version": "3.9.13"
    }
  },
  "nbformat": 4,
  "nbformat_minor": 0
}
