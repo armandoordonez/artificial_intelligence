{
  "nbformat": 4,
  "nbformat_minor": 0,
  "metadata": {
    "colab": {
      "provenance": [],
      "authorship_tag": "ABX9TyMaXSKNF4Myi0+0V+1rVQZw",
      "include_colab_link": true
    },
    "kernelspec": {
      "name": "python3",
      "display_name": "Python 3"
    },
    "language_info": {
      "name": "python"
    }
  },
  "cells": [
    {
      "cell_type": "markdown",
      "metadata": {
        "id": "view-in-github",
        "colab_type": "text"
      },
      "source": [
        "<a href=\"https://colab.research.google.com/github/armandoordonez/artificial_intelligence/blob/main/KNN_manual.ipynb\" target=\"_parent\"><img src=\"https://colab.research.google.com/assets/colab-badge.svg\" alt=\"Open In Colab\"/></a>"
      ]
    },
    {
      "cell_type": "code",
      "execution_count": 2,
      "metadata": {
        "colab": {
          "base_uri": "https://localhost:8080/"
        },
        "id": "0BWKDgJHdirl",
        "outputId": "4eb8e56a-1ff6-4b61-9333-d774b79f2d08"
      },
      "outputs": [
        {
          "output_type": "stream",
          "name": "stdout",
          "text": [
            "dist1= 3.0\n",
            "dist2= 2.0\n",
            "dist3= 3.1622776601683795\n",
            "dist4= 2.23606797749979\n",
            "dist5= 1.4142135623730951\n",
            "dist6= 1.7320508075688772\n"
          ]
        }
      ],
      "source": [
        "#https://www.geeksforgeeks.org/calculate-the-euclidean-distance-using-numpy/\n",
        "\n",
        "# Python code to find Euclidean distance\n",
        "# using linalg.norm()\n",
        "\n",
        "import numpy as np\n",
        "\n",
        "# initializing points in\n",
        "# numpy arrays\n",
        "obs1 = np.array((0,3,0))\n",
        "obs2 = np.array((2, 0, 0))\n",
        "obs3 = np.array((0, 1, 3))\n",
        "obs4 = np.array((0, 1, 2))\n",
        "obs5 = np.array((-1, 0,1))\n",
        "obs6 = np.array((1, 1, 1))\n",
        "\n",
        "\n",
        "# calculating Euclidean distance\n",
        "# using linalg.norm()\n",
        "\n",
        "test = np.array((0, 0, 0))\n",
        "\n",
        "dist1 = np.linalg.norm(obs1 - test)\n",
        "dist2 = np.linalg.norm(obs2 - test)\n",
        "dist3 = np.linalg.norm(obs3 - test)\n",
        "dist4 = np.linalg.norm(obs4 - test)\n",
        "dist5 = np.linalg.norm(obs5 - test)\n",
        "dist6 = np.linalg.norm(obs6 - test)\n",
        "\n",
        "\n",
        "# printing Euclidean distance\n",
        "\n",
        "print(\"dist1=\", dist1)\n",
        "print(\"dist2=\", dist2)\n",
        "print(\"dist3=\", dist3)\n",
        "print(\"dist4=\", dist4)\n",
        "print(\"dist5=\", dist5)\n",
        "print(\"dist6=\", dist6)\n",
        "\n",
        "\n",
        "\n"
      ]
    },
    {
      "cell_type": "code",
      "source": [],
      "metadata": {
        "id": "X04gItQpex-A"
      },
      "execution_count": null,
      "outputs": []
    }
  ]
}